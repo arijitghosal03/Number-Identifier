{
  "nbformat": 4,
  "nbformat_minor": 0,
  "metadata": {
    "colab": {
      "provenance": [],
      "authorship_tag": "ABX9TyNrt8WNUh6q5sD1bgd+qKYr",
      "include_colab_link": true
    },
    "kernelspec": {
      "name": "python3",
      "display_name": "Python 3"
    },
    "language_info": {
      "name": "python"
    }
  },
  "cells": [
    {
      "cell_type": "markdown",
      "metadata": {
        "id": "view-in-github",
        "colab_type": "text"
      },
      "source": [
        "<a href=\"https://colab.research.google.com/github/arijitghosal03/Number-Identifier/blob/main/Number_Identifier.ipynb\" target=\"_parent\"><img src=\"https://colab.research.google.com/assets/colab-badge.svg\" alt=\"Open In Colab\"/></a>"
      ]
    },
    {
      "cell_type": "code",
      "execution_count": null,
      "metadata": {
        "id": "IZu4OBxCMMkl"
      },
      "outputs": [],
      "source": [
        "import tensorflow as tf\n",
        "from tensorflow import keras\n",
        "from tensorflow.keras.models import Sequential\n",
        "from tensorflow.keras.layers import Dense\n",
        "import matplotlib.pyplot as plt \n",
        "%matplotlib inline\n",
        "import numpy as np\n",
        "(x_train,y_train),(x_test,y_test)=keras.datasets.mnist.load_data()\n",
        "#print(len(x_train))\n",
        "#print(x_train[0])\n",
        "#plt.matshow(x_train[8])\n",
        "#print(y_train[:9])\n",
        "x_train=x_train/255\n",
        "x_test=x_test/255\n",
        "x_train_flattened= x_train.reshape(len(x_train),28*28)\n",
        "x_test_flattened= x_test.reshape(len(x_test),28*28)\n",
        "print(x_train_flattened)\n",
        "model = keras.Sequential([\n",
        "    keras.layers.Dense(11, input_shape=(784,),activation='sigmoid')\n",
        "    ])\n",
        "model.compile(\n",
        "    optimizer='adam',\n",
        "    loss='sparse_categorical_crossentropy',\n",
        "    metrics=['accuracy']\n",
        "    )\n",
        "model.fit(x_train_flattened,y_train,epochs=5)\n",
        "model.evaluate(x_test_flattened,y_test)\n",
        "y_predicted=model.predict(x_test_flattened)\n",
        "np.argmax(y_predicted[9])"
      ]
    }
  ]
}